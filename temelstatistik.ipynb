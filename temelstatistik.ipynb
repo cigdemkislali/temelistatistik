{
  "nbformat": 4,
  "nbformat_minor": 0,
  "metadata": {
    "colab": {
      "provenance": []
    },
    "kernelspec": {
      "name": "python3",
      "display_name": "Python 3"
    },
    "language_info": {
      "name": "python"
    }
  },
  "cells": [
    {
      "cell_type": "markdown",
      "source": [
        "# Temel Istatistik"
      ],
      "metadata": {
        "id": "8G-zqt2W_StL"
      }
    },
    {
      "cell_type": "markdown",
      "source": [
        "{4,8,6,5,3,7}\n",
        "\n",
        "Ortalama = 5,5\n",
        "\n",
        "Varyans = (4-5,5)^2 + ( 8-5,5)^2 + ..... ( 7-5,5)^2 / 6 = 2,92\n",
        "\n",
        "Standart Sapma = sqrt(varyans)\n",
        "\n",
        "Güven aralığı = Verilerden anlamlı fikirler elde etmek için kesin tahmini belirten istatistiksel kavram.\n",
        "\n",
        "( ön koşullarında t-testi ve z-testi )\n",
        "\n",
        "Bir şehirde yaşayan insanların günlük kahve tüketim miktarını ölçeceksin. Örnek olarak da 100 kişi seçtiniz. Bunların günlük ortalama kahve tüketimi 2.8 fincan buldunuz. Ayrıca bu  grubun standart sapması da 0.5 fincan olarak hesaplanmış.\n",
        "\n",
        "Hedef : %95 güven düzeyinde bu popülasyonun gerçek ortalama kahve tüketimi için bir güven aralığı hesaplayın.\n",
        "\n",
        " GA = Ortalama +- ( Z . (SS / sqrt(n))) = [ 2.702, 2.89 ]\n",
        "\n",
        " Z = Z skoru = % 95 güven aralığı için Z = 1.96\n",
        "\n",
        " ss = standart sapma\n",
        "\n",
        " sqrt(n) = karekök ( veri sayısı )\n",
        "\n",
        " Z-Skoru = Bir dağılımın ortalamasından kaç standart sapma uzaklıkta olduğunu gösterir.\n",
        "\n",
        "Z =( X - ortalama) / SS = 1.5\n",
        "\n",
        "Bir sınavda sınıfın ortalaması 70 olsun, standart sapması 10 olsun. Bir kişinin notu yani X 85 olsun.\n",
        "\n",
        "\n",
        "\n",
        "**T-Testi Türleri**\n",
        "\n",
        "İki grup arasında ortalamaların anlamlı bir şekilde farklı olup olmadığını test eden metrik.\n",
        "\n",
        "Bir firma %20 lik bir indirimin satışlara nasıl etkisi olduğunu analiz etmek istiyor.\n",
        "\n",
        "Eldeki veriler;\n",
        "\n",
        "- Kampanya öncesinde ürünlerin günlük satış miktarı ( 10 günlük )\n",
        "- Kampanya sürecinde ............................... ( 10 Günlük )\n",
        "\n",
        "Sorular =\n",
        "\n",
        "1- Verisetini kullanarak kampanya öncesi ve sonrası günlük satışların ortalamasının t-testini tespit eden bir Python kodu yaz.\n",
        "[15,18,16,20,22,19,21,17,16,18]\n",
        "\n",
        "[22,25,28,30,27,26,29,23,24,25]\n",
        "\n",
        "\n"
      ],
      "metadata": {
        "id": "70xrrtsL_myj"
      }
    },
    {
      "cell_type": "code",
      "source": [
        "from scipy.stats import ttest_ind\n",
        "\n",
        "x1= [15,18,16,20,22,19,21,17,16,18]\n",
        "x2= [22,25,28,30,27,26,29,23,24,25]\n",
        "\n",
        "t_stat, p_value = ttest_ind(x1,x2)\n",
        "\n",
        "print(f\"T-test sonuçları : {t_stat:.2f}\")"
      ],
      "metadata": {
        "colab": {
          "base_uri": "https://localhost:8080/"
        },
        "id": "9KBPjSBwJWgh",
        "outputId": "7c8359ae-2bff-4b33-954a-6d8fccc8e39d"
      },
      "execution_count": null,
      "outputs": [
        {
          "output_type": "stream",
          "name": "stdout",
          "text": [
            "T-test sonuçları : -7.01\n"
          ]
        }
      ]
    },
    {
      "cell_type": "markdown",
      "source": [
        "Ortalamaları hesapla = x1 = 18.2 x2=25,9\n",
        "\n",
        "Varyans hesapla =\n",
        "\n",
        "t = (sonraki veri ortlaması - Önceki veri ortalaması ) / sqrt((v1 / vs ) + ( v2/ vs))\n",
        "\n",
        "vs= veri sayısı = 10\n",
        "v1= ilk veri grubunun varyansı\n",
        "v2= ikinci veri grubunun varyansı\n",
        "\n"
      ],
      "metadata": {
        "id": "1uAIG0JFKFXi"
      }
    },
    {
      "cell_type": "markdown",
      "source": [
        "Güven aralığı =\n",
        "\n",
        "%90 == z değeri 1.64\n",
        "\n",
        "%95 == z değeri 1.96\n",
        "\n",
        "%99 == z değeri 2.57"
      ],
      "metadata": {
        "id": "tlab3k2tLahD"
      }
    },
    {
      "cell_type": "markdown",
      "source": [
        "## Anova Test\n"
      ],
      "metadata": {
        "id": "zI-f9ItRLz6F"
      }
    },
    {
      "cell_type": "markdown",
      "source": [
        "Birden fazla grubun ortalamalarının birbirinden anlamlı bir şekilde farklı olup olmadığını test etmek için kullanılan yöntem.\n",
        "\n",
        "- Tek yönlü anova\n",
        "\n",
        "- İki yönlü anova\n",
        "\n",
        "- Tekrarlı ölçümler anova\n",
        "\n",
        "Temel çalışma mantığında gruplar arası varyans bir de grup içi varyansa bakılır.\n",
        "\n",
        "F score = Gruplar arası varyans / Grup içi varyans"
      ],
      "metadata": {
        "id": "Uw095ftDL36P"
      }
    },
    {
      "cell_type": "markdown",
      "source": [
        "1- İş anlayışı\n",
        "\n",
        "2- Data / base\n",
        "\n",
        "3- Data hazırlığı\n",
        "\n",
        "4- Veri anlamlandırma ( keşifsel veri analizi )\n",
        "\n",
        "5- Veri modelleme\n",
        "\n",
        "6- Model Değerlendirme\n",
        "\n",
        "7- Model Dağıtma"
      ],
      "metadata": {
        "id": "xu8gphYSPder"
      }
    }
  ]
}